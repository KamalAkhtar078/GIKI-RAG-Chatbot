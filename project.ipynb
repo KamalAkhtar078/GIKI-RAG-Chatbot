{
  "cells": [
    {
      "cell_type": "markdown",
      "source": [
        "# GIKI Prospectus Q&A Chatbot using Retrieval-Augmented Generation (RAG)\n",
        "This notebook implements a system to upload GIKI-related documents, extract and chunk content, embed the chunks using sentence transformers, do vector similarity search with FAISS, and answer questions using gpt. The interface is built using Gradio.\n"
      ],
      "metadata": {
        "id": "N_HYEA23Eh-t"
      },
      "id": "N_HYEA23Eh-t"
    },
    {
      "cell_type": "markdown",
      "source": [
        "#Environment Setup"
      ],
      "metadata": {
        "id": "_rxU4eEbElUK"
      },
      "id": "_rxU4eEbElUK"
    },
    {
      "cell_type": "code",
      "execution_count": 13,
      "id": "d7e7b130",
      "metadata": {
        "colab": {
          "base_uri": "https://localhost:8080/"
        },
        "id": "d7e7b130",
        "outputId": "daac142d-8e83-484d-8c4a-7ac076583598"
      },
      "outputs": [
        {
          "output_type": "stream",
          "name": "stdout",
          "text": [
            "Requirement already satisfied: gradio in /usr/local/lib/python3.12/dist-packages (5.42.0)\n",
            "Requirement already satisfied: sentence-transformers in /usr/local/lib/python3.12/dist-packages (5.1.0)\n",
            "Requirement already satisfied: faiss-cpu in /usr/local/lib/python3.12/dist-packages (1.12.0)\n",
            "Requirement already satisfied: pdfplumber in /usr/local/lib/python3.12/dist-packages (0.11.7)\n",
            "Requirement already satisfied: python-docx in /usr/local/lib/python3.12/dist-packages (1.2.0)\n",
            "Requirement already satisfied: transformers in /usr/local/lib/python3.12/dist-packages (4.55.2)\n",
            "Requirement already satisfied: torch in /usr/local/lib/python3.12/dist-packages (2.8.0+cu126)\n",
            "Requirement already satisfied: aiofiles<25.0,>=22.0 in /usr/local/lib/python3.12/dist-packages (from gradio) (24.1.0)\n",
            "Requirement already satisfied: anyio<5.0,>=3.0 in /usr/local/lib/python3.12/dist-packages (from gradio) (4.10.0)\n",
            "Requirement already satisfied: brotli>=1.1.0 in /usr/local/lib/python3.12/dist-packages (from gradio) (1.1.0)\n",
            "Requirement already satisfied: fastapi<1.0,>=0.115.2 in /usr/local/lib/python3.12/dist-packages (from gradio) (0.116.1)\n",
            "Requirement already satisfied: ffmpy in /usr/local/lib/python3.12/dist-packages (from gradio) (0.6.1)\n",
            "Requirement already satisfied: gradio-client==1.11.1 in /usr/local/lib/python3.12/dist-packages (from gradio) (1.11.1)\n",
            "Requirement already satisfied: groovy~=0.1 in /usr/local/lib/python3.12/dist-packages (from gradio) (0.1.2)\n",
            "Requirement already satisfied: httpx<1.0,>=0.24.1 in /usr/local/lib/python3.12/dist-packages (from gradio) (0.28.1)\n",
            "Requirement already satisfied: huggingface-hub<1.0,>=0.33.5 in /usr/local/lib/python3.12/dist-packages (from gradio) (0.34.4)\n",
            "Requirement already satisfied: jinja2<4.0 in /usr/local/lib/python3.12/dist-packages (from gradio) (3.1.6)\n",
            "Requirement already satisfied: markupsafe<4.0,>=2.0 in /usr/local/lib/python3.12/dist-packages (from gradio) (3.0.2)\n",
            "Requirement already satisfied: numpy<3.0,>=1.0 in /usr/local/lib/python3.12/dist-packages (from gradio) (2.0.2)\n",
            "Requirement already satisfied: orjson~=3.0 in /usr/local/lib/python3.12/dist-packages (from gradio) (3.11.2)\n",
            "Requirement already satisfied: packaging in /usr/local/lib/python3.12/dist-packages (from gradio) (25.0)\n",
            "Requirement already satisfied: pandas<3.0,>=1.0 in /usr/local/lib/python3.12/dist-packages (from gradio) (2.2.2)\n",
            "Requirement already satisfied: pillow<12.0,>=8.0 in /usr/local/lib/python3.12/dist-packages (from gradio) (11.3.0)\n",
            "Requirement already satisfied: pydantic<2.12,>=2.0 in /usr/local/lib/python3.12/dist-packages (from gradio) (2.11.7)\n",
            "Requirement already satisfied: pydub in /usr/local/lib/python3.12/dist-packages (from gradio) (0.25.1)\n",
            "Requirement already satisfied: python-multipart>=0.0.18 in /usr/local/lib/python3.12/dist-packages (from gradio) (0.0.20)\n",
            "Requirement already satisfied: pyyaml<7.0,>=5.0 in /usr/local/lib/python3.12/dist-packages (from gradio) (6.0.2)\n",
            "Requirement already satisfied: ruff>=0.9.3 in /usr/local/lib/python3.12/dist-packages (from gradio) (0.12.9)\n",
            "Requirement already satisfied: safehttpx<0.2.0,>=0.1.6 in /usr/local/lib/python3.12/dist-packages (from gradio) (0.1.6)\n",
            "Requirement already satisfied: semantic-version~=2.0 in /usr/local/lib/python3.12/dist-packages (from gradio) (2.10.0)\n",
            "Requirement already satisfied: starlette<1.0,>=0.40.0 in /usr/local/lib/python3.12/dist-packages (from gradio) (0.47.2)\n",
            "Requirement already satisfied: tomlkit<0.14.0,>=0.12.0 in /usr/local/lib/python3.12/dist-packages (from gradio) (0.13.3)\n",
            "Requirement already satisfied: typer<1.0,>=0.12 in /usr/local/lib/python3.12/dist-packages (from gradio) (0.16.0)\n",
            "Requirement already satisfied: typing-extensions~=4.0 in /usr/local/lib/python3.12/dist-packages (from gradio) (4.14.1)\n",
            "Requirement already satisfied: uvicorn>=0.14.0 in /usr/local/lib/python3.12/dist-packages (from gradio) (0.35.0)\n",
            "Requirement already satisfied: fsspec in /usr/local/lib/python3.12/dist-packages (from gradio-client==1.11.1->gradio) (2025.3.0)\n",
            "Requirement already satisfied: websockets<16.0,>=10.0 in /usr/local/lib/python3.12/dist-packages (from gradio-client==1.11.1->gradio) (15.0.1)\n",
            "Requirement already satisfied: tqdm in /usr/local/lib/python3.12/dist-packages (from sentence-transformers) (4.67.1)\n",
            "Requirement already satisfied: scikit-learn in /usr/local/lib/python3.12/dist-packages (from sentence-transformers) (1.6.1)\n",
            "Requirement already satisfied: scipy in /usr/local/lib/python3.12/dist-packages (from sentence-transformers) (1.16.1)\n",
            "Requirement already satisfied: pdfminer.six==20250506 in /usr/local/lib/python3.12/dist-packages (from pdfplumber) (20250506)\n",
            "Requirement already satisfied: pypdfium2>=4.18.0 in /usr/local/lib/python3.12/dist-packages (from pdfplumber) (4.30.0)\n",
            "Requirement already satisfied: charset-normalizer>=2.0.0 in /usr/local/lib/python3.12/dist-packages (from pdfminer.six==20250506->pdfplumber) (3.4.3)\n",
            "Requirement already satisfied: cryptography>=36.0.0 in /usr/local/lib/python3.12/dist-packages (from pdfminer.six==20250506->pdfplumber) (43.0.3)\n",
            "Requirement already satisfied: lxml>=3.1.0 in /usr/local/lib/python3.12/dist-packages (from python-docx) (5.4.0)\n",
            "Requirement already satisfied: filelock in /usr/local/lib/python3.12/dist-packages (from transformers) (3.19.1)\n",
            "Requirement already satisfied: regex!=2019.12.17 in /usr/local/lib/python3.12/dist-packages (from transformers) (2024.11.6)\n",
            "Requirement already satisfied: requests in /usr/local/lib/python3.12/dist-packages (from transformers) (2.32.4)\n",
            "Requirement already satisfied: tokenizers<0.22,>=0.21 in /usr/local/lib/python3.12/dist-packages (from transformers) (0.21.4)\n",
            "Requirement already satisfied: safetensors>=0.4.3 in /usr/local/lib/python3.12/dist-packages (from transformers) (0.6.2)\n",
            "Requirement already satisfied: setuptools in /usr/local/lib/python3.12/dist-packages (from torch) (75.2.0)\n",
            "Requirement already satisfied: sympy>=1.13.3 in /usr/local/lib/python3.12/dist-packages (from torch) (1.13.3)\n",
            "Requirement already satisfied: networkx in /usr/local/lib/python3.12/dist-packages (from torch) (3.5)\n",
            "Requirement already satisfied: nvidia-cuda-nvrtc-cu12==12.6.77 in /usr/local/lib/python3.12/dist-packages (from torch) (12.6.77)\n",
            "Requirement already satisfied: nvidia-cuda-runtime-cu12==12.6.77 in /usr/local/lib/python3.12/dist-packages (from torch) (12.6.77)\n",
            "Requirement already satisfied: nvidia-cuda-cupti-cu12==12.6.80 in /usr/local/lib/python3.12/dist-packages (from torch) (12.6.80)\n",
            "Requirement already satisfied: nvidia-cudnn-cu12==9.10.2.21 in /usr/local/lib/python3.12/dist-packages (from torch) (9.10.2.21)\n",
            "Requirement already satisfied: nvidia-cublas-cu12==12.6.4.1 in /usr/local/lib/python3.12/dist-packages (from torch) (12.6.4.1)\n",
            "Requirement already satisfied: nvidia-cufft-cu12==11.3.0.4 in /usr/local/lib/python3.12/dist-packages (from torch) (11.3.0.4)\n",
            "Requirement already satisfied: nvidia-curand-cu12==10.3.7.77 in /usr/local/lib/python3.12/dist-packages (from torch) (10.3.7.77)\n",
            "Requirement already satisfied: nvidia-cusolver-cu12==11.7.1.2 in /usr/local/lib/python3.12/dist-packages (from torch) (11.7.1.2)\n",
            "Requirement already satisfied: nvidia-cusparse-cu12==12.5.4.2 in /usr/local/lib/python3.12/dist-packages (from torch) (12.5.4.2)\n",
            "Requirement already satisfied: nvidia-cusparselt-cu12==0.7.1 in /usr/local/lib/python3.12/dist-packages (from torch) (0.7.1)\n",
            "Requirement already satisfied: nvidia-nccl-cu12==2.27.3 in /usr/local/lib/python3.12/dist-packages (from torch) (2.27.3)\n",
            "Requirement already satisfied: nvidia-nvtx-cu12==12.6.77 in /usr/local/lib/python3.12/dist-packages (from torch) (12.6.77)\n",
            "Requirement already satisfied: nvidia-nvjitlink-cu12==12.6.85 in /usr/local/lib/python3.12/dist-packages (from torch) (12.6.85)\n",
            "Requirement already satisfied: nvidia-cufile-cu12==1.11.1.6 in /usr/local/lib/python3.12/dist-packages (from torch) (1.11.1.6)\n",
            "Requirement already satisfied: triton==3.4.0 in /usr/local/lib/python3.12/dist-packages (from torch) (3.4.0)\n",
            "Requirement already satisfied: idna>=2.8 in /usr/local/lib/python3.12/dist-packages (from anyio<5.0,>=3.0->gradio) (3.10)\n",
            "Requirement already satisfied: sniffio>=1.1 in /usr/local/lib/python3.12/dist-packages (from anyio<5.0,>=3.0->gradio) (1.3.1)\n",
            "Requirement already satisfied: certifi in /usr/local/lib/python3.12/dist-packages (from httpx<1.0,>=0.24.1->gradio) (2025.8.3)\n",
            "Requirement already satisfied: httpcore==1.* in /usr/local/lib/python3.12/dist-packages (from httpx<1.0,>=0.24.1->gradio) (1.0.9)\n",
            "Requirement already satisfied: h11>=0.16 in /usr/local/lib/python3.12/dist-packages (from httpcore==1.*->httpx<1.0,>=0.24.1->gradio) (0.16.0)\n",
            "Requirement already satisfied: hf-xet<2.0.0,>=1.1.3 in /usr/local/lib/python3.12/dist-packages (from huggingface-hub<1.0,>=0.33.5->gradio) (1.1.7)\n",
            "Requirement already satisfied: python-dateutil>=2.8.2 in /usr/local/lib/python3.12/dist-packages (from pandas<3.0,>=1.0->gradio) (2.9.0.post0)\n",
            "Requirement already satisfied: pytz>=2020.1 in /usr/local/lib/python3.12/dist-packages (from pandas<3.0,>=1.0->gradio) (2025.2)\n",
            "Requirement already satisfied: tzdata>=2022.7 in /usr/local/lib/python3.12/dist-packages (from pandas<3.0,>=1.0->gradio) (2025.2)\n",
            "Requirement already satisfied: annotated-types>=0.6.0 in /usr/local/lib/python3.12/dist-packages (from pydantic<2.12,>=2.0->gradio) (0.7.0)\n",
            "Requirement already satisfied: pydantic-core==2.33.2 in /usr/local/lib/python3.12/dist-packages (from pydantic<2.12,>=2.0->gradio) (2.33.2)\n",
            "Requirement already satisfied: typing-inspection>=0.4.0 in /usr/local/lib/python3.12/dist-packages (from pydantic<2.12,>=2.0->gradio) (0.4.1)\n",
            "Requirement already satisfied: mpmath<1.4,>=1.1.0 in /usr/local/lib/python3.12/dist-packages (from sympy>=1.13.3->torch) (1.3.0)\n",
            "Requirement already satisfied: click>=8.0.0 in /usr/local/lib/python3.12/dist-packages (from typer<1.0,>=0.12->gradio) (8.2.1)\n",
            "Requirement already satisfied: shellingham>=1.3.0 in /usr/local/lib/python3.12/dist-packages (from typer<1.0,>=0.12->gradio) (1.5.4)\n",
            "Requirement already satisfied: rich>=10.11.0 in /usr/local/lib/python3.12/dist-packages (from typer<1.0,>=0.12->gradio) (13.9.4)\n",
            "Requirement already satisfied: urllib3<3,>=1.21.1 in /usr/local/lib/python3.12/dist-packages (from requests->transformers) (2.5.0)\n",
            "Requirement already satisfied: joblib>=1.2.0 in /usr/local/lib/python3.12/dist-packages (from scikit-learn->sentence-transformers) (1.5.1)\n",
            "Requirement already satisfied: threadpoolctl>=3.1.0 in /usr/local/lib/python3.12/dist-packages (from scikit-learn->sentence-transformers) (3.6.0)\n",
            "Requirement already satisfied: cffi>=1.12 in /usr/local/lib/python3.12/dist-packages (from cryptography>=36.0.0->pdfminer.six==20250506->pdfplumber) (1.17.1)\n",
            "Requirement already satisfied: six>=1.5 in /usr/local/lib/python3.12/dist-packages (from python-dateutil>=2.8.2->pandas<3.0,>=1.0->gradio) (1.17.0)\n",
            "Requirement already satisfied: markdown-it-py>=2.2.0 in /usr/local/lib/python3.12/dist-packages (from rich>=10.11.0->typer<1.0,>=0.12->gradio) (4.0.0)\n",
            "Requirement already satisfied: pygments<3.0.0,>=2.13.0 in /usr/local/lib/python3.12/dist-packages (from rich>=10.11.0->typer<1.0,>=0.12->gradio) (2.19.2)\n",
            "Requirement already satisfied: pycparser in /usr/local/lib/python3.12/dist-packages (from cffi>=1.12->cryptography>=36.0.0->pdfminer.six==20250506->pdfplumber) (2.22)\n",
            "Requirement already satisfied: mdurl~=0.1 in /usr/local/lib/python3.12/dist-packages (from markdown-it-py>=2.2.0->rich>=10.11.0->typer<1.0,>=0.12->gradio) (0.1.2)\n"
          ]
        }
      ],
      "source": [
        "!pip install gradio sentence-transformers faiss-cpu pdfplumber python-docx transformers torch"
      ]
    },
    {
      "cell_type": "code",
      "execution_count": 14,
      "id": "5166bb3d",
      "metadata": {
        "colab": {
          "base_uri": "https://localhost:8080/"
        },
        "id": "5166bb3d",
        "outputId": "f78e6998-ee07-4a8e-8c20-076a53291327"
      },
      "outputs": [
        {
          "output_type": "stream",
          "name": "stdout",
          "text": [
            "Using device: cuda\n"
          ]
        }
      ],
      "source": [
        "# Check CUDA availability for the inference\n",
        "import torch\n",
        "\n",
        "def get_device():\n",
        "    if torch.cuda.is_available():\n",
        "        return torch.device('cuda')\n",
        "    else:\n",
        "        return torch.device('cpu')\n",
        "\n",
        "device = get_device()\n",
        "print(f\"Using device: {device}\")"
      ]
    },
    {
      "cell_type": "markdown",
      "source": [
        "#Import modules and initialize models\n",
        "This cell imports necessary modules and loads the embedding and generation models."
      ],
      "metadata": {
        "id": "RJSSV57nE7qr"
      },
      "id": "RJSSV57nE7qr"
    },
    {
      "cell_type": "code",
      "execution_count": 15,
      "id": "2c6942a3",
      "metadata": {
        "id": "2c6942a3"
      },
      "outputs": [],
      "source": [
        "import os, io, pickle, faiss, pdfplumber\n",
        "from docx import Document\n",
        "import numpy as np\n",
        "import gradio as gr\n",
        "from sentence_transformers import SentenceTransformer\n",
        "from transformers import AutoTokenizer, AutoModelForSeq2SeqLM\n",
        "\n",
        "\n",
        "EMBED_MODEL_NAME = \"sentence-transformers/all-MiniLM-L6-v2\"\n",
        "embedder = SentenceTransformer(EMBED_MODEL_NAME)\n",
        "tokenizer = AutoTokenizer.from_pretrained(EMBED_MODEL_NAME)\n",
        "\n",
        "\n",
        "GEN_MODEL_NAME = \"google/flan-t5-base\"\n",
        "flan_tokenizer = AutoTokenizer.from_pretrained(GEN_MODEL_NAME)\n",
        "flan_model = AutoModelForSeq2SeqLM.from_pretrained(GEN_MODEL_NAME)\n"
      ]
    },
    {
      "cell_type": "markdown",
      "source": [
        "#Define text extraction functions\n",
        "These functions extract text from PDF, DOCX, and TXT files, returning a list of dictionaries containing the text and metadata.\n"
      ],
      "metadata": {
        "id": "f4X4a_J3FEFB"
      },
      "id": "f4X4a_J3FEFB"
    },
    {
      "cell_type": "code",
      "execution_count": 16,
      "id": "977a890c",
      "metadata": {
        "id": "977a890c"
      },
      "outputs": [],
      "source": [
        "def extract_text_from_pdf(file_bytes, filename):\n",
        "    pages = []\n",
        "    with pdfplumber.open(io.BytesIO(file_bytes)) as pdf:\n",
        "        for i, page in enumerate(pdf.pages):\n",
        "            txt = page.extract_text() or \"\"\n",
        "            if txt.strip():\n",
        "                pages.append({\"text\": txt, \"metadata\": {\"source\": filename, \"page\": i+1}})\n",
        "    return pages\n",
        "\n",
        "\n",
        "def extract_text_from_docx(file_bytes, filename):\n",
        "    doc = Document(io.BytesIO(file_bytes))\n",
        "    text = \"\\n\".join(p.text for p in doc.paragraphs)\n",
        "    return [{\"text\": text, \"metadata\": {\"source\": filename}}] if text.strip() else []\n",
        "\n",
        "\n",
        "def extract_text_from_txt(file_bytes, filename):\n",
        "    text = io.BytesIO(file_bytes).read().decode(\"utf-8\", errors=\"ignore\")\n",
        "    return [{\"text\": text, \"metadata\": {\"source\": filename}}] if text.strip() else []\n",
        "\n",
        "\n",
        "def load_and_extract(files):\n",
        "    all_docs = []\n",
        "    for name, data in files:\n",
        "        if name.endswith(\".pdf\"): all_docs.extend(extract_text_from_pdf(data, name))\n",
        "        elif name.endswith(\".docx\"): all_docs.extend(extract_text_from_docx(data, name))\n",
        "        elif name.endswith(\".txt\"): all_docs.extend(extract_text_from_txt(data, name))\n",
        "    return all_docs\n"
      ]
    },
    {
      "cell_type": "markdown",
      "source": [
        "# Define chunking functions\n",
        "Splitting text into smaller chunks based on token counts with some overlap to maintain context.\n"
      ],
      "metadata": {
        "id": "HT0bhT8KFOEZ"
      },
      "id": "HT0bhT8KFOEZ"
    },
    {
      "cell_type": "code",
      "execution_count": 17,
      "id": "917e37b2",
      "metadata": {
        "id": "917e37b2"
      },
      "outputs": [],
      "source": [
        "def chunk_by_tokens(text, max_tokens=400, overlap=50):\n",
        "    tokens = tokenizer.encode(text, add_special_tokens=False)\n",
        "    chunks, start = [], 0\n",
        "    while start < len(tokens):\n",
        "        end = min(start + max_tokens, len(tokens))\n",
        "        chunk_text = tokenizer.decode(tokens[start:end], skip_special_tokens=True)\n",
        "        chunks.append(chunk_text)\n",
        "        if end == len(tokens): break\n",
        "        start = end - overlap\n",
        "    return chunks\n",
        "\n",
        "\n",
        "def make_chunks(docs, max_tokens=400, overlap=50):\n",
        "    all_chunks, metas = [], []\n",
        "    for d in docs:\n",
        "        for c in chunk_by_tokens(d[\"text\"], max_tokens=max_tokens, overlap=overlap):\n",
        "            all_chunks.append(c)\n",
        "            metas.append(d[\"metadata\"])\n",
        "    return all_chunks, metas\n"
      ]
    },
    {
      "cell_type": "markdown",
      "source": [
        "# Embeddings and FAISS index building\n",
        "Create vector embeddings for chunks and build a FAISS index for efficient similarity search.\n"
      ],
      "metadata": {
        "id": "4698DGG7FbTT"
      },
      "id": "4698DGG7FbTT"
    },
    {
      "cell_type": "code",
      "execution_count": 18,
      "id": "0a8e52b2",
      "metadata": {
        "id": "0a8e52b2"
      },
      "outputs": [],
      "source": [
        "def embed_texts(texts):\n",
        "    return embedder.encode(texts, convert_to_numpy=True, normalize_embeddings=True)\n",
        "\n",
        "\n",
        "def build_faiss(chunks, metas):\n",
        "    embs = embed_texts(chunks)\n",
        "    index = faiss.IndexFlatIP(embs.shape[1])\n",
        "    index.add(embs.astype(np.float32))\n",
        "    return index\n"
      ]
    },
    {
      "cell_type": "markdown",
      "source": [
        "#Answer generation and retrieval\n",
        "  Generate answers using Flan-T5 model based on retrieved chunks relevant to the query."
      ],
      "metadata": {
        "id": "gKW-cHbDF_EU"
      },
      "id": "gKW-cHbDF_EU"
    },
    {
      "cell_type": "code",
      "execution_count": 19,
      "id": "aff4454d",
      "metadata": {
        "id": "aff4454d"
      },
      "outputs": [],
      "source": [
        "SYSTEM_PROMPT = (\n",
        "    \"You are a helpful assistant for GIKI students. \"\n",
        "    \"Answer ONLY using the provided context. \"\n",
        "    \"If the answer is not in the context, say: \"\n",
        "    \"'I could not find this in the provided documents.'\"\n",
        ")\n",
        "\n",
        "\n",
        "def flan_generate(prompt):\n",
        "    inputs = flan_tokenizer(prompt, return_tensors=\"pt\", truncation=True, max_length=1024)\n",
        "    outputs = flan_model.generate(**inputs, max_new_tokens=256)\n",
        "    return flan_tokenizer.decode(outputs[0], skip_special_tokens=True)\n",
        "\n",
        "\n",
        "def retrieve(query, index, chunks, metas, top_k=3):\n",
        "    q_emb = embed_texts([query]).astype(np.float32)\n",
        "    scores, idxs = index.search(q_emb, top_k)\n",
        "    results = []\n",
        "    for i, s in zip(idxs[0], scores[0]):\n",
        "        results.append({\"score\": float(s), \"chunk\": chunks[i], \"meta\": metas[i]})\n",
        "    return results\n"
      ]
    },
    {
      "cell_type": "markdown",
      "source": [
        "#Orchestration functions\n",
        "Functions coordinating document processing and answering user questions.\n"
      ],
      "metadata": {
        "id": "Cc6UtjEoGHzx"
      },
      "id": "Cc6UtjEoGHzx"
    },
    {
      "cell_type": "code",
      "execution_count": 20,
      "id": "1b505768",
      "metadata": {
        "id": "1b505768"
      },
      "outputs": [],
      "source": [
        "def build_store(files):\n",
        "    docs = load_and_extract(files)\n",
        "    chunks, metas = make_chunks(docs)\n",
        "    index = build_faiss(chunks, metas)\n",
        "    return index, chunks, metas\n",
        "\n",
        "\n",
        "def answer_question(query, index, chunks, metas):\n",
        "    if index is None:\n",
        "        return \"⚠️ Please upload and build first.\", []\n",
        "    retrieved = retrieve(query, index, chunks, metas)\n",
        "    ctx = \"\\n\\n\".join([r['chunk'] for r in retrieved])\n",
        "    prompt = f\"{SYSTEM_PROMPT}\\n\\nContext:\\n{ctx}\\n\\nQuestion: {query}\\nAnswer:\"\n",
        "    ans = flan_generate(prompt)\n",
        "    return ans, retrieved\n"
      ]
    },
    {
      "cell_type": "markdown",
      "source": [
        "#UI callback functions\n",
        "Global variables and UI functions for building the knowledge base and answering queries.\n"
      ],
      "metadata": {
        "id": "dxYQoarhGQkE"
      },
      "id": "dxYQoarhGQkE"
    },
    {
      "cell_type": "code",
      "execution_count": 21,
      "id": "b08ce704",
      "metadata": {
        "id": "b08ce704"
      },
      "outputs": [],
      "source": [
        "index, chunks, metas = None, None, None\n",
        "\n",
        "def ui_build(files):\n",
        "    global index, chunks, metas\n",
        "    file_pairs = []\n",
        "    for f in files:\n",
        "        with open(f, \"rb\") as fh:   # Use file path\n",
        "            file_pairs.append((os.path.basename(f), fh.read()))\n",
        "    index, chunks, metas = build_store(file_pairs)\n",
        "    return \"✅ Knowledge base built!\"\n",
        "\n",
        "\n",
        "def ui_ask(q):\n",
        "    global index, chunks, metas\n",
        "    ans, retrieved = answer_question(q, index, chunks, metas)\n",
        "    rows = [[r[\"meta\"].get(\"source\"), r[\"meta\"].get(\"page\", \"-\"), round(r[\"score\"],3), r[\"chunk\"][:120]] for r in retrieved]\n",
        "    return ans, rows\n"
      ]
    },
    {
      "cell_type": "markdown",
      "source": [
        "#Gradio interface setup\n",
        "This cell builds the web UI using Gradio components and connects the callbacks.\n"
      ],
      "metadata": {
        "id": "38MF4IO_GWZG"
      },
      "id": "38MF4IO_GWZG"
    },
    {
      "cell_type": "code",
      "execution_count": 22,
      "id": "a1499284",
      "metadata": {
        "id": "a1499284"
      },
      "outputs": [],
      "source": [
        "with gr.Blocks() as demo:\n",
        "    gr.Markdown(\"# 📘 GIKI RAG Chatbot (Gradio)\")\n",
        "\n",
        "    files = gr.File(file_types=[\".pdf\",\".docx\",\".txt\"], file_count=\"multiple\", label=\"Upload Docs\")\n",
        "    build_btn = gr.Button(\"🔧 Build Knowledge Base\")\n",
        "    build_status = gr.Textbox(label=\"Status\")\n",
        "\n",
        "    query = gr.Textbox(label=\"Ask a Question\")\n",
        "    ask_btn = gr.Button(\"🤖 Ask\")\n",
        "    answer = gr.Textbox(label=\"Answer\")\n",
        "    sources = gr.Dataframe(headers=[\"Source\",\"Page\",\"Score\",\"Excerpt\"], row_count=3)\n",
        "\n",
        "    build_btn.click(ui_build, inputs=[files], outputs=[build_status])\n",
        "    ask_btn.click(ui_ask, inputs=[query], outputs=[answer, sources])\n"
      ]
    },
    {
      "cell_type": "markdown",
      "source": [
        "# Launch the app\n",
        "Run this last cell to launch the interactive Gradio app.\n"
      ],
      "metadata": {
        "id": "Fxqb56vaGiK2"
      },
      "id": "Fxqb56vaGiK2"
    },
    {
      "cell_type": "code",
      "execution_count": 23,
      "id": "ea367073",
      "metadata": {
        "colab": {
          "base_uri": "https://localhost:8080/",
          "height": 646
        },
        "id": "ea367073",
        "outputId": "f4d8ca67-6ca3-4179-ce53-26336d8bc006"
      },
      "outputs": [
        {
          "output_type": "stream",
          "name": "stdout",
          "text": [
            "It looks like you are running Gradio on a hosted Jupyter notebook, which requires `share=True`. Automatically setting `share=True` (you can turn this off by setting `share=False` in `launch()` explicitly).\n",
            "\n",
            "Colab notebook detected. To show errors in colab notebook, set debug=True in launch()\n",
            "* Running on public URL: https://5d2309bd455c9a8f9a.gradio.live\n",
            "\n",
            "This share link expires in 1 week. For free permanent hosting and GPU upgrades, run `gradio deploy` from the terminal in the working directory to deploy to Hugging Face Spaces (https://huggingface.co/spaces)\n"
          ]
        },
        {
          "output_type": "display_data",
          "data": {
            "text/plain": [
              "<IPython.core.display.HTML object>"
            ],
            "text/html": [
              "<div><iframe src=\"https://5d2309bd455c9a8f9a.gradio.live\" width=\"100%\" height=\"500\" allow=\"autoplay; camera; microphone; clipboard-read; clipboard-write;\" frameborder=\"0\" allowfullscreen></iframe></div>"
            ]
          },
          "metadata": {}
        },
        {
          "output_type": "execute_result",
          "data": {
            "text/plain": []
          },
          "metadata": {},
          "execution_count": 23
        }
      ],
      "source": [
        "demo.launch()\n"
      ]
    },
    {
      "cell_type": "code",
      "source": [],
      "metadata": {
        "id": "J3P2RM-W_l5B"
      },
      "id": "J3P2RM-W_l5B",
      "execution_count": 23,
      "outputs": []
    }
  ],
  "metadata": {
    "kernelspec": {
      "display_name": "Python 3",
      "name": "python3"
    },
    "language_info": {
      "name": "python",
      "version": "3.13.5"
    },
    "colab": {
      "provenance": [],
      "gpuType": "T4"
    },
    "accelerator": "GPU"
  },
  "nbformat": 4,
  "nbformat_minor": 5
}